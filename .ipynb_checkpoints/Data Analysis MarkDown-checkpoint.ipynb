{
 "cells": [
  {
   "cell_type": "markdown",
   "metadata": {},
   "source": [
    "# Analysis of Tablets from Amazon "
   ]
  },
  {
   "cell_type": "code",
   "execution_count": 11,
   "metadata": {
    "scrolled": true
   },
   "outputs": [
    {
     "data": {
      "text/html": [
       "<div>\n",
       "<style scoped>\n",
       "    .dataframe tbody tr th:only-of-type {\n",
       "        vertical-align: middle;\n",
       "    }\n",
       "\n",
       "    .dataframe tbody tr th {\n",
       "        vertical-align: top;\n",
       "    }\n",
       "\n",
       "    .dataframe thead th {\n",
       "        text-align: right;\n",
       "    }\n",
       "</style>\n",
       "<table border=\"1\" class=\"dataframe\">\n",
       "  <thead>\n",
       "    <tr style=\"text-align: right;\">\n",
       "      <th></th>\n",
       "      <th>brand</th>\n",
       "      <th>description</th>\n",
       "      <th>num_reviews</th>\n",
       "      <th>price</th>\n",
       "      <th>rating</th>\n",
       "      <th>title</th>\n",
       "    </tr>\n",
       "  </thead>\n",
       "  <tbody>\n",
       "    <tr>\n",
       "      <th>0</th>\n",
       "      <td>Dragon</td>\n",
       "      <td>,,[ Native and Latest Android OS ] The Max10 u...</td>\n",
       "      <td>816 ratings</td>\n",
       "      <td>$149.99</td>\n",
       "      <td>4.4 out of 5 stars</td>\n",
       "      <td>Dragon Touch Max10 Tablet, Android 10.0 OS, Oc...</td>\n",
       "    </tr>\n",
       "    <tr>\n",
       "      <th>1</th>\n",
       "      <td>Hoozo</td>\n",
       "      <td>,,【Latest Ver. Tablets】: Android 8.1 Go OS, 1....</td>\n",
       "      <td>2,099 ratings</td>\n",
       "      <td>$91.77</td>\n",
       "      <td>3.9 out of 5 stars</td>\n",
       "      <td>Android Tablet 10 Inch, 5G WiFi Tablet, 16 GB ...</td>\n",
       "    </tr>\n",
       "    <tr>\n",
       "      <th>2</th>\n",
       "      <td>vankyo</td>\n",
       "      <td>,,Faster and More responsive: Equipped with th...</td>\n",
       "      <td>1,711 ratings</td>\n",
       "      <td>$74.99</td>\n",
       "      <td>4.4 out of 5 stars</td>\n",
       "      <td>VANKYO MatrixPad S7 7 inch Tablet, Android 9.0...</td>\n",
       "    </tr>\n",
       "    <tr>\n",
       "      <th>3</th>\n",
       "      <td>Dragon</td>\n",
       "      <td>,,[Strong and Powerful Performance]: Do what y...</td>\n",
       "      <td>4,595 ratings</td>\n",
       "      <td>$119.99</td>\n",
       "      <td>4.4 out of 5 stars</td>\n",
       "      <td>Dragon Touch Notepad K10 Tablet, 10 inch Andro...</td>\n",
       "    </tr>\n",
       "    <tr>\n",
       "      <th>4</th>\n",
       "      <td>Amazon</td>\n",
       "      <td>A Certified Refurbished Fire 7 Tablet is refur...</td>\n",
       "      <td>2,140 ratings</td>\n",
       "      <td>$59.99</td>\n",
       "      <td>4.4 out of 5 stars</td>\n",
       "      <td>Certified Refurbished Fire 7 Tablet (7\" displa...</td>\n",
       "    </tr>\n",
       "  </tbody>\n",
       "</table>\n",
       "</div>"
      ],
      "text/plain": [
       "    brand                                        description    num_reviews  \\\n",
       "0  Dragon  ,,[ Native and Latest Android OS ] The Max10 u...    816 ratings   \n",
       "1   Hoozo  ,,【Latest Ver. Tablets】: Android 8.1 Go OS, 1....  2,099 ratings   \n",
       "2  vankyo  ,,Faster and More responsive: Equipped with th...  1,711 ratings   \n",
       "3  Dragon  ,,[Strong and Powerful Performance]: Do what y...  4,595 ratings   \n",
       "4  Amazon  A Certified Refurbished Fire 7 Tablet is refur...  2,140 ratings   \n",
       "\n",
       "     price              rating  \\\n",
       "0  $149.99  4.4 out of 5 stars   \n",
       "1   $91.77  3.9 out of 5 stars   \n",
       "2   $74.99  4.4 out of 5 stars   \n",
       "3  $119.99  4.4 out of 5 stars   \n",
       "4   $59.99  4.4 out of 5 stars   \n",
       "\n",
       "                                               title  \n",
       "0  Dragon Touch Max10 Tablet, Android 10.0 OS, Oc...  \n",
       "1  Android Tablet 10 Inch, 5G WiFi Tablet, 16 GB ...  \n",
       "2  VANKYO MatrixPad S7 7 inch Tablet, Android 9.0...  \n",
       "3  Dragon Touch Notepad K10 Tablet, 10 inch Andro...  \n",
       "4  Certified Refurbished Fire 7 Tablet (7\" displa...  "
      ]
     },
     "execution_count": 11,
     "metadata": {},
     "output_type": "execute_result"
    }
   ],
   "source": [
    "import pandas as pd \n",
    "\n",
    "#load csv file scraped from Amazon.com in master folder \n",
    "df = pd.read_csv(\"data.csv\")\n",
    "df.head()"
   ]
  },
  {
   "cell_type": "markdown",
   "metadata": {},
   "source": [
    "##### Using Scrapy I was able to scrape the following variables: Brand, Description, number of reviews, price, rating, and title\n",
    "##### Scrapy was able to scrape over 9000 entries!"
   ]
  },
  {
   "cell_type": "code",
   "execution_count": null,
   "metadata": {},
   "outputs": [],
   "source": [
    "##########################################################################################################################"
   ]
  },
  {
   "cell_type": "markdown",
   "metadata": {},
   "source": [
    "## Analyzing the Overall rating Scores of Tablets to Amazons Fire HD. "
   ]
  },
  {
   "cell_type": "code",
   "execution_count": 34,
   "metadata": {
    "scrolled": true
   },
   "outputs": [
    {
     "data": {
      "text/plain": [
       "5.0 out of 5 stars    246\n",
       "4.0 out of 5 stars    169\n",
       "4.5 out of 5 stars    123\n",
       "3.5 out of 5 stars    118\n",
       "4.1 out of 5 stars    113\n",
       "Name: rating, dtype: int64"
      ]
     },
     "execution_count": 34,
     "metadata": {},
     "output_type": "execute_result"
    }
   ],
   "source": [
    "#Count total values of ratings, group similar ones. Remove .head() to see full\n",
    "rating_df = df['rating'].value_counts()\n",
    "rating_df.head()"
   ]
  },
  {
   "cell_type": "code",
   "execution_count": 14,
   "metadata": {
    "scrolled": true
   },
   "outputs": [
    {
     "data": {
      "text/plain": [
       "1     76\n",
       "2    156\n",
       "3    864\n",
       "4    941\n",
       "5    246\n",
       "Name: first, dtype: int64"
      ]
     },
     "execution_count": 14,
     "metadata": {},
     "output_type": "execute_result"
    }
   ],
   "source": [
    "#Lets look at a general Picture of what rating tablets on amazon tend to get. \n",
    "df['first'] = df['rating'].str.split('.').str[0]\n",
    "\n",
    "rating_group_df = df['first'].value_counts().sort_index()\n",
    "rating_group_df"
   ]
  },
  {
   "cell_type": "code",
   "execution_count": 25,
   "metadata": {
    "scrolled": false
   },
   "outputs": [
    {
     "data": {
      "image/png": "[encoded data removed]",
      "text/plain": [
       "<Figure size 432x288 with 1 Axes>"
      ]
     },
     "metadata": {},
     "output_type": "display_data"
    }
   ],
   "source": [
    "import numpy as np\n",
    "from matplotlib import pyplot as plt\n",
    "plt.style.use('ggplot')\n",
    "\n",
    "summarised_results = rating_group_df\n",
    "plt.bar(summarised_results.keys(), summarised_results.values)\n",
    "\n",
    "plt.xlabel(\"Rating In Stars (1-5)\")\n",
    "plt.ylabel(\"Number of Ratings\")\n",
    "plt.title(\"Average Rating of Tablets\")\n",
    "\n",
    "plt.show()"
   ]
  },
  {
   "cell_type": "markdown",
   "metadata": {},
   "source": [
    "##### As you can see from the bar chart most tablets have a fairly good Rating between 3-4+ stars "
   ]
  },
  {
   "cell_type": "markdown",
   "metadata": {},
   "source": [
    "### Now how does Amazons Tablets Compare? "
   ]
  },
  {
   "cell_type": "code",
   "execution_count": 23,
   "metadata": {
    "scrolled": true
   },
   "outputs": [
    {
     "data": {
      "text/html": [
       "<div>\n",
       "<style scoped>\n",
       "    .dataframe tbody tr th:only-of-type {\n",
       "        vertical-align: middle;\n",
       "    }\n",
       "\n",
       "    .dataframe tbody tr th {\n",
       "        vertical-align: top;\n",
       "    }\n",
       "\n",
       "    .dataframe thead th {\n",
       "        text-align: right;\n",
       "    }\n",
       "</style>\n",
       "<table border=\"1\" class=\"dataframe\">\n",
       "  <thead>\n",
       "    <tr style=\"text-align: right;\">\n",
       "      <th></th>\n",
       "      <th>brand</th>\n",
       "      <th>description</th>\n",
       "      <th>num_reviews</th>\n",
       "      <th>price</th>\n",
       "      <th>rating</th>\n",
       "      <th>title</th>\n",
       "      <th>first</th>\n",
       "    </tr>\n",
       "  </thead>\n",
       "  <tbody>\n",
       "    <tr>\n",
       "      <th>4</th>\n",
       "      <td>Amazon</td>\n",
       "      <td>A Certified Refurbished Fire 7 Tablet is refur...</td>\n",
       "      <td>2,140 ratings</td>\n",
       "      <td>$59.99</td>\n",
       "      <td>4.4 out of 5 stars</td>\n",
       "      <td>Certified Refurbished Fire 7 Tablet (7\" displa...</td>\n",
       "      <td>4</td>\n",
       "    </tr>\n",
       "    <tr>\n",
       "      <th>13</th>\n",
       "      <td>Amazon</td>\n",
       "      <td>Save up to $99 on a full-featured Fire HD 10 t...</td>\n",
       "      <td>12,609 ratings</td>\n",
       "      <td>$199.99</td>\n",
       "      <td>4.7 out of 5 stars</td>\n",
       "      <td>Fire HD 10 Kids Edition Tablet – 10.1” 1080p f...</td>\n",
       "      <td>4</td>\n",
       "    </tr>\n",
       "    <tr>\n",
       "      <th>15</th>\n",
       "      <td>Amazon</td>\n",
       "      <td>Save up to $94.98 on a full-featured Fire HD 8...</td>\n",
       "      <td>17,612 ratings</td>\n",
       "      <td>$139.99</td>\n",
       "      <td>4.7 out of 5 stars</td>\n",
       "      <td>All-new Fire HD 8 Kids Edition tablet, 8\" HD d...</td>\n",
       "      <td>4</td>\n",
       "    </tr>\n",
       "    <tr>\n",
       "      <th>22</th>\n",
       "      <td>Amazon</td>\n",
       "      <td>A Certified Refurbished Fire HD 10 Tablet is r...</td>\n",
       "      <td>1,545 ratings</td>\n",
       "      <td>$119.99</td>\n",
       "      <td>4.6 out of 5 stars</td>\n",
       "      <td>Certified Refurbished Fire HD 10 Tablet (10.1\"...</td>\n",
       "      <td>4</td>\n",
       "    </tr>\n",
       "    <tr>\n",
       "      <th>27</th>\n",
       "      <td>Amazon</td>\n",
       "      <td>Contains two Fire 7 Kids Edition tablets (16 G...</td>\n",
       "      <td>1,592 ratings</td>\n",
       "      <td>$199.98</td>\n",
       "      <td>4.7 out of 5 stars</td>\n",
       "      <td>Fire 7 Kids Edition Tablet 2-Pack, 16 GB, Blue...</td>\n",
       "      <td>4</td>\n",
       "    </tr>\n",
       "  </tbody>\n",
       "</table>\n",
       "</div>"
      ],
      "text/plain": [
       "     brand                                        description     num_reviews  \\\n",
       "4   Amazon  A Certified Refurbished Fire 7 Tablet is refur...   2,140 ratings   \n",
       "13  Amazon  Save up to $99 on a full-featured Fire HD 10 t...  12,609 ratings   \n",
       "15  Amazon  Save up to $94.98 on a full-featured Fire HD 8...  17,612 ratings   \n",
       "22  Amazon  A Certified Refurbished Fire HD 10 Tablet is r...   1,545 ratings   \n",
       "27  Amazon  Contains two Fire 7 Kids Edition tablets (16 G...   1,592 ratings   \n",
       "\n",
       "      price              rating  \\\n",
       "4    $59.99  4.4 out of 5 stars   \n",
       "13  $199.99  4.7 out of 5 stars   \n",
       "15  $139.99  4.7 out of 5 stars   \n",
       "22  $119.99  4.6 out of 5 stars   \n",
       "27  $199.98  4.7 out of 5 stars   \n",
       "\n",
       "                                                title first  \n",
       "4   Certified Refurbished Fire 7 Tablet (7\" displa...     4  \n",
       "13  Fire HD 10 Kids Edition Tablet – 10.1” 1080p f...     4  \n",
       "15  All-new Fire HD 8 Kids Edition tablet, 8\" HD d...     4  \n",
       "22  Certified Refurbished Fire HD 10 Tablet (10.1\"...     4  \n",
       "27  Fire 7 Kids Edition Tablet 2-Pack, 16 GB, Blue...     4  "
      ]
     },
     "execution_count": 23,
     "metadata": {},
     "output_type": "execute_result"
    }
   ],
   "source": [
    "#Lets first sort the dataframe to only list items with the title containing \"Fire\", the name of Amazons tablet\n",
    "#Search title for Fire \n",
    "fire_df=df[df['title'].str.contains(\"Fire\")]\n",
    "fire_df.head()\n"
   ]
  },
  {
   "cell_type": "code",
   "execution_count": 22,
   "metadata": {
    "scrolled": false
   },
   "outputs": [
    {
     "data": {
      "text/plain": [
       "4.6 out of 5 stars    15\n",
       "4.7 out of 5 stars    14\n",
       "5.0 out of 5 stars    12\n",
       "4.5 out of 5 stars     9\n",
       "4.0 out of 5 stars     6\n",
       "Name: rating, dtype: int64"
      ]
     },
     "execution_count": 22,
     "metadata": {},
     "output_type": "execute_result"
    }
   ],
   "source": [
    "rating_fire_df = fire_df['rating'].value_counts()\n",
    "rating_fire_df.head()"
   ]
  },
  {
   "cell_type": "code",
   "execution_count": 45,
   "metadata": {},
   "outputs": [
    {
     "data": {
      "text/plain": [
       "5.0     246\n",
       "4.0     169\n",
       "4.5     123\n",
       "3.5     118\n",
       "4.1     113\n",
       "3.8     111\n",
       "4.2     109\n",
       "3.7     107\n",
       "3.9     106\n",
       "4.4     105\n",
       "4.3      96\n",
       "4.6      96\n",
       "3.6      90\n",
       "4.7      84\n",
       "3.0      83\n",
       "3.3      68\n",
       "3.4      65\n",
       "3.2      59\n",
       "1.0      57\n",
       "3.1      57\n",
       "4.8      38\n",
       "2.0      31\n",
       "2.9      26\n",
       "2.6      23\n",
       "2.8      21\n",
       "2.5      17\n",
       "2.7      15\n",
       "2.3       8\n",
       "4.9       8\n",
       "2.4       7\n",
       "1.9       7\n",
       "2.2       5\n",
       "2.1       3\n",
       "1.6       3\n",
       "1.4       3\n",
       "1.7       3\n",
       "1.3       1\n",
       "1.5       1\n",
       "1.8       1\n",
       "Name: first, dtype: int64"
      ]
     },
     "execution_count": 45,
     "metadata": {},
     "output_type": "execute_result"
    }
   ],
   "source": [
    "# plt.scatter(df['budget'], df['gross'])\n",
    "# plt.xlabel('Budget')\n",
    "# plt.ylabel('Gross Income')\n"
   ]
  }
 ],
 "metadata": {
  "kernelspec": {
   "display_name": "Python 3",
   "language": "python",
   "name": "python3"
  },
  "language_info": {
   "codemirror_mode": {
    "name": "ipython",
    "version": 3
   },
   "file_extension": ".py",
   "mimetype": "text/x-python",
   "name": "python",
   "nbconvert_exporter": "python",
   "pygments_lexer": "ipython3",
   "version": "3.8.3"
  }
 },
 "nbformat": 4,
 "nbformat_minor": 4
}
