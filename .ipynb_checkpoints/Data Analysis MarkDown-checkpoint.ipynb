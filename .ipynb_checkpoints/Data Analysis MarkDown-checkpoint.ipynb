{
 "cells": [
  {
   "cell_type": "markdown",
   "metadata": {},
   "source": [
    "# Analysis of Tablets from Amazon "
   ]
  },
  {
   "cell_type": "markdown",
   "metadata": {},
   "source": [
    "#### ---- Analyzing data of all tablets from amazon.com. Scraped using Scrapy\n",
    "#### ---- Goal, to analyze differences in products and compare to Amazons brand of tablets, Fire HD tablets. "
   ]
  },
  {
   "cell_type": "code",
   "execution_count": 1,
   "metadata": {},
   "outputs": [
    {
     "data": {
      "text/html": [
       "<div>\n",
       "<style scoped>\n",
       "    .dataframe tbody tr th:only-of-type {\n",
       "        vertical-align: middle;\n",
       "    }\n",
       "\n",
       "    .dataframe tbody tr th {\n",
       "        vertical-align: top;\n",
       "    }\n",
       "\n",
       "    .dataframe thead th {\n",
       "        text-align: right;\n",
       "    }\n",
       "</style>\n",
       "<table border=\"1\" class=\"dataframe\">\n",
       "  <thead>\n",
       "    <tr style=\"text-align: right;\">\n",
       "      <th></th>\n",
       "      <th>brand</th>\n",
       "      <th>description</th>\n",
       "      <th>num_reviews</th>\n",
       "      <th>price</th>\n",
       "      <th>rating</th>\n",
       "      <th>title</th>\n",
       "    </tr>\n",
       "  </thead>\n",
       "  <tbody>\n",
       "    <tr>\n",
       "      <th>0</th>\n",
       "      <td>Dragon</td>\n",
       "      <td>,,[ Native and Latest Android OS ] The Max10 u...</td>\n",
       "      <td>816 ratings</td>\n",
       "      <td>$149.99</td>\n",
       "      <td>4.4 out of 5 stars</td>\n",
       "      <td>Dragon Touch Max10 Tablet, Android 10.0 OS, Oc...</td>\n",
       "    </tr>\n",
       "    <tr>\n",
       "      <th>1</th>\n",
       "      <td>Hoozo</td>\n",
       "      <td>,,【Latest Ver. Tablets】: Android 8.1 Go OS, 1....</td>\n",
       "      <td>2,099 ratings</td>\n",
       "      <td>$91.77</td>\n",
       "      <td>3.9 out of 5 stars</td>\n",
       "      <td>Android Tablet 10 Inch, 5G WiFi Tablet, 16 GB ...</td>\n",
       "    </tr>\n",
       "    <tr>\n",
       "      <th>2</th>\n",
       "      <td>vankyo</td>\n",
       "      <td>,,Faster and More responsive: Equipped with th...</td>\n",
       "      <td>1,711 ratings</td>\n",
       "      <td>$74.99</td>\n",
       "      <td>4.4 out of 5 stars</td>\n",
       "      <td>VANKYO MatrixPad S7 7 inch Tablet, Android 9.0...</td>\n",
       "    </tr>\n",
       "    <tr>\n",
       "      <th>3</th>\n",
       "      <td>Dragon</td>\n",
       "      <td>,,[Strong and Powerful Performance]: Do what y...</td>\n",
       "      <td>4,595 ratings</td>\n",
       "      <td>$119.99</td>\n",
       "      <td>4.4 out of 5 stars</td>\n",
       "      <td>Dragon Touch Notepad K10 Tablet, 10 inch Andro...</td>\n",
       "    </tr>\n",
       "    <tr>\n",
       "      <th>4</th>\n",
       "      <td>Amazon</td>\n",
       "      <td>A Certified Refurbished Fire 7 Tablet is refur...</td>\n",
       "      <td>2,140 ratings</td>\n",
       "      <td>$59.99</td>\n",
       "      <td>4.4 out of 5 stars</td>\n",
       "      <td>Certified Refurbished Fire 7 Tablet (7\" displa...</td>\n",
       "    </tr>\n",
       "  </tbody>\n",
       "</table>\n",
       "</div>"
      ],
      "text/plain": [
       "    brand                                        description    num_reviews  \\\n",
       "0  Dragon  ,,[ Native and Latest Android OS ] The Max10 u...    816 ratings   \n",
       "1   Hoozo  ,,【Latest Ver. Tablets】: Android 8.1 Go OS, 1....  2,099 ratings   \n",
       "2  vankyo  ,,Faster and More responsive: Equipped with th...  1,711 ratings   \n",
       "3  Dragon  ,,[Strong and Powerful Performance]: Do what y...  4,595 ratings   \n",
       "4  Amazon  A Certified Refurbished Fire 7 Tablet is refur...  2,140 ratings   \n",
       "\n",
       "     price              rating  \\\n",
       "0  $149.99  4.4 out of 5 stars   \n",
       "1   $91.77  3.9 out of 5 stars   \n",
       "2   $74.99  4.4 out of 5 stars   \n",
       "3  $119.99  4.4 out of 5 stars   \n",
       "4   $59.99  4.4 out of 5 stars   \n",
       "\n",
       "                                               title  \n",
       "0  Dragon Touch Max10 Tablet, Android 10.0 OS, Oc...  \n",
       "1  Android Tablet 10 Inch, 5G WiFi Tablet, 16 GB ...  \n",
       "2  VANKYO MatrixPad S7 7 inch Tablet, Android 9.0...  \n",
       "3  Dragon Touch Notepad K10 Tablet, 10 inch Andro...  \n",
       "4  Certified Refurbished Fire 7 Tablet (7\" displa...  "
      ]
     },
     "execution_count": 1,
     "metadata": {},
     "output_type": "execute_result"
    }
   ],
   "source": [
    "import pandas as pd \n",
    "\n",
    "#load csv file scraped from Amazon.com in master folder \n",
    "df = pd.read_csv(\"data.csv\")\n",
    "df.head()"
   ]
  },
  {
   "cell_type": "markdown",
   "metadata": {},
   "source": [
    "##### Using Scrapy I was able to scrape the following variables: Brand, Description, number of reviews, price, rating, and title\n",
    "##### Scrapy was able to scrape over 9000 entries!\n",
    "##### However we want to omit 'Renewed' and 'Refurbished' entries to prevent duplicates "
   ]
  },
  {
   "cell_type": "code",
   "execution_count": 2,
   "metadata": {
    "scrolled": true
   },
   "outputs": [
    {
     "data": {
      "text/html": [
       "<div>\n",
       "<style scoped>\n",
       "    .dataframe tbody tr th:only-of-type {\n",
       "        vertical-align: middle;\n",
       "    }\n",
       "\n",
       "    .dataframe tbody tr th {\n",
       "        vertical-align: top;\n",
       "    }\n",
       "\n",
       "    .dataframe thead th {\n",
       "        text-align: right;\n",
       "    }\n",
       "</style>\n",
       "<table border=\"1\" class=\"dataframe\">\n",
       "  <thead>\n",
       "    <tr style=\"text-align: right;\">\n",
       "      <th></th>\n",
       "      <th>brand</th>\n",
       "      <th>description</th>\n",
       "      <th>num_reviews</th>\n",
       "      <th>price</th>\n",
       "      <th>rating</th>\n",
       "      <th>title</th>\n",
       "    </tr>\n",
       "  </thead>\n",
       "  <tbody>\n",
       "    <tr>\n",
       "      <th>0</th>\n",
       "      <td>Dragon</td>\n",
       "      <td>,,[ Native and Latest Android OS ] The Max10 u...</td>\n",
       "      <td>816 ratings</td>\n",
       "      <td>$149.99</td>\n",
       "      <td>4.4 out of 5 stars</td>\n",
       "      <td>Dragon Touch Max10 Tablet, Android 10.0 OS, Oc...</td>\n",
       "    </tr>\n",
       "    <tr>\n",
       "      <th>1</th>\n",
       "      <td>Hoozo</td>\n",
       "      <td>,,【Latest Ver. Tablets】: Android 8.1 Go OS, 1....</td>\n",
       "      <td>2,099 ratings</td>\n",
       "      <td>$91.77</td>\n",
       "      <td>3.9 out of 5 stars</td>\n",
       "      <td>Android Tablet 10 Inch, 5G WiFi Tablet, 16 GB ...</td>\n",
       "    </tr>\n",
       "    <tr>\n",
       "      <th>2</th>\n",
       "      <td>vankyo</td>\n",
       "      <td>,,Faster and More responsive: Equipped with th...</td>\n",
       "      <td>1,711 ratings</td>\n",
       "      <td>$74.99</td>\n",
       "      <td>4.4 out of 5 stars</td>\n",
       "      <td>VANKYO MatrixPad S7 7 inch Tablet, Android 9.0...</td>\n",
       "    </tr>\n",
       "    <tr>\n",
       "      <th>3</th>\n",
       "      <td>Dragon</td>\n",
       "      <td>,,[Strong and Powerful Performance]: Do what y...</td>\n",
       "      <td>4,595 ratings</td>\n",
       "      <td>$119.99</td>\n",
       "      <td>4.4 out of 5 stars</td>\n",
       "      <td>Dragon Touch Notepad K10 Tablet, 10 inch Andro...</td>\n",
       "    </tr>\n",
       "    <tr>\n",
       "      <th>5</th>\n",
       "      <td>PRITOM</td>\n",
       "      <td>,,★[HIGH PERFORMANCE ANDROID TABLET ] - Pritom...</td>\n",
       "      <td>235 ratings</td>\n",
       "      <td>$89.99</td>\n",
       "      <td>4.0 out of 5 stars</td>\n",
       "      <td>Android Tablet Pritom 10 inch Android 9.0 OS T...</td>\n",
       "    </tr>\n",
       "    <tr>\n",
       "      <th>...</th>\n",
       "      <td>...</td>\n",
       "      <td>...</td>\n",
       "      <td>...</td>\n",
       "      <td>...</td>\n",
       "      <td>...</td>\n",
       "      <td>...</td>\n",
       "    </tr>\n",
       "    <tr>\n",
       "      <th>9571</th>\n",
       "      <td>Fusion5</td>\n",
       "      <td>,,10.1 INCH POWERFUL OCTA-CORE TABLET PC WITH ...</td>\n",
       "      <td>NaN</td>\n",
       "      <td>$159.95</td>\n",
       "      <td>NaN</td>\n",
       "      <td>Fusion5 10.1\" 2in1 Google Certified Android La...</td>\n",
       "    </tr>\n",
       "    <tr>\n",
       "      <th>9572</th>\n",
       "      <td>Samsung</td>\n",
       "      <td>,,Minimal bezel. Maximum view. Watch, stream a...</td>\n",
       "      <td>8,882 ratings</td>\n",
       "      <td>$206.68</td>\n",
       "      <td>4.7 out of 5 stars</td>\n",
       "      <td>SAMSUNG SM-T510NZDFXAR Galaxy Tab A 10.1 64 GB...</td>\n",
       "    </tr>\n",
       "    <tr>\n",
       "      <th>9573</th>\n",
       "      <td>Amazon</td>\n",
       "      <td>8\" HD display, 2X the storage (32 or 64 GB of ...</td>\n",
       "      <td>30,108 ratings</td>\n",
       "      <td>$89.99</td>\n",
       "      <td>4.5 out of 5 stars</td>\n",
       "      <td>All-new Fire HD 8 tablet, 8\" HD display, 32 GB...</td>\n",
       "    </tr>\n",
       "    <tr>\n",
       "      <th>9574</th>\n",
       "      <td>Amazon</td>\n",
       "      <td>10.1\" 1080p full HD display; 32 or 64 GB of in...</td>\n",
       "      <td>77,593 ratings</td>\n",
       "      <td>$149.99</td>\n",
       "      <td>4.6 out of 5 stars</td>\n",
       "      <td>Fire HD 10 Tablet (10.1\" 1080p full HD display...</td>\n",
       "    </tr>\n",
       "    <tr>\n",
       "      <th>9575</th>\n",
       "      <td>Amazon</td>\n",
       "      <td>7\" IPS display; 16 or 32 GB of internal storag...</td>\n",
       "      <td>110,184 ratings</td>\n",
       "      <td>$49.99</td>\n",
       "      <td>4.4 out of 5 stars</td>\n",
       "      <td>Fire 7 tablet (7\" display, 16 GB) - Black</td>\n",
       "    </tr>\n",
       "  </tbody>\n",
       "</table>\n",
       "<p>8841 rows × 6 columns</p>\n",
       "</div>"
      ],
      "text/plain": [
       "        brand                                        description  \\\n",
       "0      Dragon  ,,[ Native and Latest Android OS ] The Max10 u...   \n",
       "1       Hoozo  ,,【Latest Ver. Tablets】: Android 8.1 Go OS, 1....   \n",
       "2      vankyo  ,,Faster and More responsive: Equipped with th...   \n",
       "3      Dragon  ,,[Strong and Powerful Performance]: Do what y...   \n",
       "5      PRITOM  ,,★[HIGH PERFORMANCE ANDROID TABLET ] - Pritom...   \n",
       "...       ...                                                ...   \n",
       "9571  Fusion5  ,,10.1 INCH POWERFUL OCTA-CORE TABLET PC WITH ...   \n",
       "9572  Samsung  ,,Minimal bezel. Maximum view. Watch, stream a...   \n",
       "9573   Amazon  8\" HD display, 2X the storage (32 or 64 GB of ...   \n",
       "9574   Amazon  10.1\" 1080p full HD display; 32 or 64 GB of in...   \n",
       "9575   Amazon  7\" IPS display; 16 or 32 GB of internal storag...   \n",
       "\n",
       "          num_reviews    price              rating  \\\n",
       "0         816 ratings  $149.99  4.4 out of 5 stars   \n",
       "1       2,099 ratings   $91.77  3.9 out of 5 stars   \n",
       "2       1,711 ratings   $74.99  4.4 out of 5 stars   \n",
       "3       4,595 ratings  $119.99  4.4 out of 5 stars   \n",
       "5         235 ratings   $89.99  4.0 out of 5 stars   \n",
       "...               ...      ...                 ...   \n",
       "9571              NaN  $159.95                 NaN   \n",
       "9572    8,882 ratings  $206.68  4.7 out of 5 stars   \n",
       "9573   30,108 ratings   $89.99  4.5 out of 5 stars   \n",
       "9574   77,593 ratings  $149.99  4.6 out of 5 stars   \n",
       "9575  110,184 ratings   $49.99  4.4 out of 5 stars   \n",
       "\n",
       "                                                  title  \n",
       "0     Dragon Touch Max10 Tablet, Android 10.0 OS, Oc...  \n",
       "1     Android Tablet 10 Inch, 5G WiFi Tablet, 16 GB ...  \n",
       "2     VANKYO MatrixPad S7 7 inch Tablet, Android 9.0...  \n",
       "3     Dragon Touch Notepad K10 Tablet, 10 inch Andro...  \n",
       "5     Android Tablet Pritom 10 inch Android 9.0 OS T...  \n",
       "...                                                 ...  \n",
       "9571  Fusion5 10.1\" 2in1 Google Certified Android La...  \n",
       "9572  SAMSUNG SM-T510NZDFXAR Galaxy Tab A 10.1 64 GB...  \n",
       "9573  All-new Fire HD 8 tablet, 8\" HD display, 32 GB...  \n",
       "9574  Fire HD 10 Tablet (10.1\" 1080p full HD display...  \n",
       "9575          Fire 7 tablet (7\" display, 16 GB) - Black  \n",
       "\n",
       "[8841 rows x 6 columns]"
      ]
     },
     "execution_count": 2,
     "metadata": {},
     "output_type": "execute_result"
    }
   ],
   "source": [
    "import warnings; warnings.simplefilter('ignore') #Ignore warning \n",
    "df =df[df['title'].str.contains('(Renewed)|refurbished|(Refurbished)|Refurbished')==False]\n",
    "df =df[df['description'].str.contains('Refurbished|refurbished|Renewed')==False]\n",
    "df =df[df['brand'].str.contains('Renewed')==False]\n",
    "df"
   ]
  },
  {
   "cell_type": "code",
   "execution_count": 3,
   "metadata": {},
   "outputs": [],
   "source": [
    "#Inspect csv file to insure renewed and refurbished do not show up. Uncomment to test\n",
    "#df.to_csv('dataclean.csv')"
   ]
  },
  {
   "cell_type": "markdown",
   "metadata": {},
   "source": [
    "##### Upon inspecting the csv file, all refurbished and renewed devices have been omitted! \n",
    "##### Now we can analyze only orginal posts without having to worry about inflated values due to duplicates "
   ]
  },
  {
   "cell_type": "markdown",
   "metadata": {},
   "source": [
    "<br>"
   ]
  },
  {
   "cell_type": "markdown",
   "metadata": {},
   "source": [
    "## Analyzing the Overall rating Scores of Tablets to Amazons Fire HD. "
   ]
  },
  {
   "cell_type": "code",
   "execution_count": 4,
   "metadata": {
    "scrolled": true
   },
   "outputs": [
    {
     "data": {
      "text/plain": [
       "5.0 out of 5 stars    163\n",
       "4.0 out of 5 stars    139\n",
       "3.5 out of 5 stars     98\n",
       "4.1 out of 5 stars     94\n",
       "4.5 out of 5 stars     94\n",
       "Name: rating, dtype: int64"
      ]
     },
     "execution_count": 4,
     "metadata": {},
     "output_type": "execute_result"
    }
   ],
   "source": [
    "#Count total values of ratings, group similar ones. Remove .head() to see full\n",
    "rating_df = df['rating'].value_counts()\n",
    "rating_df.head()"
   ]
  },
  {
   "cell_type": "code",
   "execution_count": 5,
   "metadata": {
    "scrolled": true
   },
   "outputs": [
    {
     "data": {
      "text/plain": [
       "1     58\n",
       "2    136\n",
       "3    728\n",
       "4    730\n",
       "5    163\n",
       "Name: first, dtype: int64"
      ]
     },
     "execution_count": 5,
     "metadata": {},
     "output_type": "execute_result"
    }
   ],
   "source": [
    "#Lets look at a general Picture of what rating tablets on amazon tend to get.\n",
    "#We will remove the decial value and group all ratings together by a single integer (1-5)\n",
    "df['first'] = df['rating'].str.split('.').str[0]\n",
    "\n",
    "rating_group_df = df['first'].value_counts().sort_index()\n",
    "rating_group_df"
   ]
  },
  {
   "cell_type": "code",
   "execution_count": 6,
   "metadata": {
    "scrolled": true
   },
   "outputs": [
    {
     "data": {
      "image/png": "[encoded data removed]",
      "text/plain": [
       "<Figure size 432x288 with 1 Axes>"
      ]
     },
     "metadata": {},
     "output_type": "display_data"
    }
   ],
   "source": [
    "#Now lets create a bar chart \n",
    "import numpy as np\n",
    "from matplotlib import pyplot as plt\n",
    "plt.style.use('ggplot')\n",
    "\n",
    "summarised_results = rating_group_df\n",
    "plt.bar(summarised_results.keys(), summarised_results.values/ summarised_results.sum(), color=\"#5ee3ff\")\n",
    "\n",
    "\n",
    "plt.xlabel(\"Rating In Stars (1-5)\")\n",
    "plt.ylabel(\"Number of Ratings\")\n",
    "plt.title(\"Average Rating of Tablets\")\n",
    "plt.savefig(\"tmp/All_Tablets_Ratings.svg\")\n",
    "plt.show()"
   ]
  },
  {
   "cell_type": "markdown",
   "metadata": {},
   "source": [
    "##### As you can see from the bar chart most tablets have a fairly good Rating between 3-4+ stars \n",
    "##### Roughly 40% for both 3 star and 4 star. And ~ 9% for 5 star. \n",
    "##### From this we can infer that overall most customers are satisfied with their tablet purchase from Amazon (89% have 3-star rating or higher)"
   ]
  },
  {
   "cell_type": "markdown",
   "metadata": {},
   "source": [
    "### Now how does Amazons Tablets Compare? "
   ]
  },
  {
   "cell_type": "code",
   "execution_count": 7,
   "metadata": {
    "scrolled": true
   },
   "outputs": [
    {
     "data": {
      "text/html": [
       "<div>\n",
       "<style scoped>\n",
       "    .dataframe tbody tr th:only-of-type {\n",
       "        vertical-align: middle;\n",
       "    }\n",
       "\n",
       "    .dataframe tbody tr th {\n",
       "        vertical-align: top;\n",
       "    }\n",
       "\n",
       "    .dataframe thead th {\n",
       "        text-align: right;\n",
       "    }\n",
       "</style>\n",
       "<table border=\"1\" class=\"dataframe\">\n",
       "  <thead>\n",
       "    <tr style=\"text-align: right;\">\n",
       "      <th></th>\n",
       "      <th>brand</th>\n",
       "      <th>description</th>\n",
       "      <th>num_reviews</th>\n",
       "      <th>price</th>\n",
       "      <th>rating</th>\n",
       "      <th>title</th>\n",
       "      <th>first</th>\n",
       "    </tr>\n",
       "  </thead>\n",
       "  <tbody>\n",
       "    <tr>\n",
       "      <th>13</th>\n",
       "      <td>Amazon</td>\n",
       "      <td>Save up to $99 on a full-featured Fire HD 10 t...</td>\n",
       "      <td>12,609 ratings</td>\n",
       "      <td>$199.99</td>\n",
       "      <td>4.7 out of 5 stars</td>\n",
       "      <td>Fire HD 10 Kids Edition Tablet – 10.1” 1080p f...</td>\n",
       "      <td>4</td>\n",
       "    </tr>\n",
       "    <tr>\n",
       "      <th>15</th>\n",
       "      <td>Amazon</td>\n",
       "      <td>Save up to $94.98 on a full-featured Fire HD 8...</td>\n",
       "      <td>17,612 ratings</td>\n",
       "      <td>$139.99</td>\n",
       "      <td>4.7 out of 5 stars</td>\n",
       "      <td>All-new Fire HD 8 Kids Edition tablet, 8\" HD d...</td>\n",
       "      <td>4</td>\n",
       "    </tr>\n",
       "    <tr>\n",
       "      <th>27</th>\n",
       "      <td>Amazon</td>\n",
       "      <td>Contains two Fire 7 Kids Edition tablets (16 G...</td>\n",
       "      <td>1,592 ratings</td>\n",
       "      <td>$199.98</td>\n",
       "      <td>4.7 out of 5 stars</td>\n",
       "      <td>Fire 7 Kids Edition Tablet 2-Pack, 16 GB, Blue...</td>\n",
       "      <td>4</td>\n",
       "    </tr>\n",
       "    <tr>\n",
       "      <th>46</th>\n",
       "      <td>Amazon</td>\n",
       "      <td>8\" HD display; 16 or 32 GB of internal storage...</td>\n",
       "      <td>76,789 ratings</td>\n",
       "      <td>NaN</td>\n",
       "      <td>4.4 out of 5 stars</td>\n",
       "      <td>Fire HD 8 Tablet (8\" HD Display, 32 GB) - Blac...</td>\n",
       "      <td>4</td>\n",
       "    </tr>\n",
       "    <tr>\n",
       "      <th>47</th>\n",
       "      <td>Amazon</td>\n",
       "      <td>Contains two Fire 7 Kids Edition tablets (16 G...</td>\n",
       "      <td>1,592 ratings</td>\n",
       "      <td>$199.98</td>\n",
       "      <td>4.7 out of 5 stars</td>\n",
       "      <td>Fire 7 Kids Edition Tablet 2-Pack, 16 GB, Blue...</td>\n",
       "      <td>4</td>\n",
       "    </tr>\n",
       "  </tbody>\n",
       "</table>\n",
       "</div>"
      ],
      "text/plain": [
       "     brand                                        description     num_reviews  \\\n",
       "13  Amazon  Save up to $99 on a full-featured Fire HD 10 t...  12,609 ratings   \n",
       "15  Amazon  Save up to $94.98 on a full-featured Fire HD 8...  17,612 ratings   \n",
       "27  Amazon  Contains two Fire 7 Kids Edition tablets (16 G...   1,592 ratings   \n",
       "46  Amazon  8\" HD display; 16 or 32 GB of internal storage...  76,789 ratings   \n",
       "47  Amazon  Contains two Fire 7 Kids Edition tablets (16 G...   1,592 ratings   \n",
       "\n",
       "      price              rating  \\\n",
       "13  $199.99  4.7 out of 5 stars   \n",
       "15  $139.99  4.7 out of 5 stars   \n",
       "27  $199.98  4.7 out of 5 stars   \n",
       "46      NaN  4.4 out of 5 stars   \n",
       "47  $199.98  4.7 out of 5 stars   \n",
       "\n",
       "                                                title first  \n",
       "13  Fire HD 10 Kids Edition Tablet – 10.1” 1080p f...     4  \n",
       "15  All-new Fire HD 8 Kids Edition tablet, 8\" HD d...     4  \n",
       "27  Fire 7 Kids Edition Tablet 2-Pack, 16 GB, Blue...     4  \n",
       "46  Fire HD 8 Tablet (8\" HD Display, 32 GB) - Blac...     4  \n",
       "47  Fire 7 Kids Edition Tablet 2-Pack, 16 GB, Blue...     4  "
      ]
     },
     "execution_count": 7,
     "metadata": {},
     "output_type": "execute_result"
    }
   ],
   "source": [
    "#Lets first sort the dataframe to only list items with the title containing \"Fire\", the name of Amazons tablet\n",
    "#Search title for Fire \n",
    "fire_df=df[df['title'].str.contains(\"Fire\")]\n",
    "fire_df.head()\n"
   ]
  },
  {
   "cell_type": "code",
   "execution_count": 8,
   "metadata": {
    "scrolled": true
   },
   "outputs": [
    {
     "data": {
      "text/plain": [
       "4.7 out of 5 stars    14\n",
       "4.6 out of 5 stars    13\n",
       "5.0 out of 5 stars    10\n",
       "4.5 out of 5 stars     9\n",
       "4.0 out of 5 stars     6\n",
       "Name: rating, dtype: int64"
      ]
     },
     "execution_count": 8,
     "metadata": {},
     "output_type": "execute_result"
    }
   ],
   "source": [
    "rating_fire_df = fire_df['rating'].value_counts()\n",
    "rating_fire_df.head()"
   ]
  },
  {
   "cell_type": "code",
   "execution_count": 9,
   "metadata": {},
   "outputs": [
    {
     "data": {
      "text/plain": [
       "2     2\n",
       "3     6\n",
       "4    60\n",
       "5    10\n",
       "Name: first, dtype: int64"
      ]
     },
     "execution_count": 9,
     "metadata": {},
     "output_type": "execute_result"
    }
   ],
   "source": [
    "fire_df['first'] = fire_df['rating'].str.split('.').str[0]\n",
    "\n",
    "fire_rating_group_df = fire_df['first'].value_counts().sort_index()\n",
    "fire_rating_group_df"
   ]
  },
  {
   "cell_type": "code",
   "execution_count": 10,
   "metadata": {
    "scrolled": true
   },
   "outputs": [
    {
     "data": {
      "image/png": "[encoded data removed]",
      "text/plain": [
       "<Figure size 432x288 with 1 Axes>"
      ]
     },
     "metadata": {},
     "output_type": "display_data"
    }
   ],
   "source": [
    "plt.style.use('ggplot')\n",
    "\n",
    "summarised_results = fire_rating_group_df\n",
    "\n",
    "plt.bar(summarised_results.keys(), summarised_results.values/ summarised_results.sum())\n",
    "\n",
    "\n",
    "plt.xlabel(\"Rating In Stars (1-5)\")\n",
    "plt.ylabel(\"Number of Ratings\")\n",
    "plt.title(\"Average Rating of Amazon Fire HD Tablets\")\n",
    "plt.savefig(\"tmp/Fire_HD_Ratings.svg\")\n",
    "plt.show()"
   ]
  },
  {
   "cell_type": "markdown",
   "metadata": {},
   "source": [
    "##### As you can see overall most customers are overwhelmingly satisfed with Amazons brand of tablets. With No 1 star reviews and the vast majority of reviews being over 4 stars (Over 80%). Add to the fact that the Fire HD tablets are some of the most highly reviewed products on the Amazon market place its clear that most consumers opt for the Fire HD over other tablet manufactuerers "
   ]
  },
  {
   "cell_type": "code",
   "execution_count": null,
   "metadata": {},
   "outputs": [],
   "source": []
  },
  {
   "cell_type": "code",
   "execution_count": 11,
   "metadata": {},
   "outputs": [],
   "source": [
    "def visualise_word_map():\n",
    "    words=\" \"\n",
    "    for msg in df[\"description\"]:\n",
    "        \n",
    "        msg = str(msg).lower()\n",
    "        words = words+msg+\" \"\n",
    "        wordcloud = WordCloud(width=3000, height=2500, background_color='white').generate(words)\n",
    "        fig_size = plt.rcParams[\"figure.figsize\"]\n",
    "        fig_size[0] = 14\n",
    "        fig_size[1] = 7\n",
    "        plt.show(wordcloud)\n",
    "        plt.axis(\"off\")"
   ]
  }
 ],
 "metadata": {
  "kernelspec": {
   "display_name": "Python 3",
   "language": "python",
   "name": "python3"
  },
  "language_info": {
   "codemirror_mode": {
    "name": "ipython",
    "version": 3
   },
   "file_extension": ".py",
   "mimetype": "text/x-python",
   "name": "python",
   "nbconvert_exporter": "python",
   "pygments_lexer": "ipython3",
   "version": "3.8.3"
  }
 },
 "nbformat": 4,
 "nbformat_minor": 4
}
