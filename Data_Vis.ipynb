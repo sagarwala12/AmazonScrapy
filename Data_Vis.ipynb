{
 "cells": [
  {
   "cell_type": "code",
   "execution_count": null,
   "metadata": {},
   "outputs": [],
   "source": [
    "#Create bar plot of average ratings of all vs average rating of fire \n",
    "#sentiment analysis of description \n",
    "# brands with most products \n",
    "#"
   ]
  },
  {
   "cell_type": "code",
   "execution_count": 17,
   "metadata": {
    "scrolled": true
   },
   "outputs": [
    {
     "data": {
      "text/html": [
       "<div>\n",
       "<style scoped>\n",
       "    .dataframe tbody tr th:only-of-type {\n",
       "        vertical-align: middle;\n",
       "    }\n",
       "\n",
       "    .dataframe tbody tr th {\n",
       "        vertical-align: top;\n",
       "    }\n",
       "\n",
       "    .dataframe thead th {\n",
       "        text-align: right;\n",
       "    }\n",
       "</style>\n",
       "<table border=\"1\" class=\"dataframe\">\n",
       "  <thead>\n",
       "    <tr style=\"text-align: right;\">\n",
       "      <th></th>\n",
       "      <th>brand</th>\n",
       "      <th>description</th>\n",
       "      <th>num_reviews</th>\n",
       "      <th>price</th>\n",
       "      <th>rating</th>\n",
       "      <th>title</th>\n",
       "    </tr>\n",
       "  </thead>\n",
       "  <tbody>\n",
       "    <tr>\n",
       "      <th>0</th>\n",
       "      <td>Dragon</td>\n",
       "      <td>,,[ Native and Latest Android OS ] The Max10 u...</td>\n",
       "      <td>816 ratings</td>\n",
       "      <td>$149.99</td>\n",
       "      <td>4.4 out of 5 stars</td>\n",
       "      <td>Dragon Touch Max10 Tablet, Android 10.0 OS, Oc...</td>\n",
       "    </tr>\n",
       "    <tr>\n",
       "      <th>1</th>\n",
       "      <td>Hoozo</td>\n",
       "      <td>,,【Latest Ver. Tablets】: Android 8.1 Go OS, 1....</td>\n",
       "      <td>2,099 ratings</td>\n",
       "      <td>$91.77</td>\n",
       "      <td>3.9 out of 5 stars</td>\n",
       "      <td>Android Tablet 10 Inch, 5G WiFi Tablet, 16 GB ...</td>\n",
       "    </tr>\n",
       "    <tr>\n",
       "      <th>2</th>\n",
       "      <td>vankyo</td>\n",
       "      <td>,,Faster and More responsive: Equipped with th...</td>\n",
       "      <td>1,711 ratings</td>\n",
       "      <td>$74.99</td>\n",
       "      <td>4.4 out of 5 stars</td>\n",
       "      <td>VANKYO MatrixPad S7 7 inch Tablet, Android 9.0...</td>\n",
       "    </tr>\n",
       "    <tr>\n",
       "      <th>3</th>\n",
       "      <td>Dragon</td>\n",
       "      <td>,,[Strong and Powerful Performance]: Do what y...</td>\n",
       "      <td>4,595 ratings</td>\n",
       "      <td>$119.99</td>\n",
       "      <td>4.4 out of 5 stars</td>\n",
       "      <td>Dragon Touch Notepad K10 Tablet, 10 inch Andro...</td>\n",
       "    </tr>\n",
       "    <tr>\n",
       "      <th>4</th>\n",
       "      <td>Amazon</td>\n",
       "      <td>A Certified Refurbished Fire 7 Tablet is refur...</td>\n",
       "      <td>2,140 ratings</td>\n",
       "      <td>$59.99</td>\n",
       "      <td>4.4 out of 5 stars</td>\n",
       "      <td>Certified Refurbished Fire 7 Tablet (7\" displa...</td>\n",
       "    </tr>\n",
       "    <tr>\n",
       "      <th>...</th>\n",
       "      <td>...</td>\n",
       "      <td>...</td>\n",
       "      <td>...</td>\n",
       "      <td>...</td>\n",
       "      <td>...</td>\n",
       "      <td>...</td>\n",
       "    </tr>\n",
       "    <tr>\n",
       "      <th>9571</th>\n",
       "      <td>Fusion5</td>\n",
       "      <td>,,10.1 INCH POWERFUL OCTA-CORE TABLET PC WITH ...</td>\n",
       "      <td>NaN</td>\n",
       "      <td>$159.95</td>\n",
       "      <td>NaN</td>\n",
       "      <td>Fusion5 10.1\" 2in1 Google Certified Android La...</td>\n",
       "    </tr>\n",
       "    <tr>\n",
       "      <th>9572</th>\n",
       "      <td>Samsung</td>\n",
       "      <td>,,Minimal bezel. Maximum view. Watch, stream a...</td>\n",
       "      <td>8,882 ratings</td>\n",
       "      <td>$206.68</td>\n",
       "      <td>4.7 out of 5 stars</td>\n",
       "      <td>SAMSUNG SM-T510NZDFXAR Galaxy Tab A 10.1 64 GB...</td>\n",
       "    </tr>\n",
       "    <tr>\n",
       "      <th>9573</th>\n",
       "      <td>Amazon</td>\n",
       "      <td>8\" HD display, 2X the storage (32 or 64 GB of ...</td>\n",
       "      <td>30,108 ratings</td>\n",
       "      <td>$89.99</td>\n",
       "      <td>4.5 out of 5 stars</td>\n",
       "      <td>All-new Fire HD 8 tablet, 8\" HD display, 32 GB...</td>\n",
       "    </tr>\n",
       "    <tr>\n",
       "      <th>9574</th>\n",
       "      <td>Amazon</td>\n",
       "      <td>10.1\" 1080p full HD display; 32 or 64 GB of in...</td>\n",
       "      <td>77,593 ratings</td>\n",
       "      <td>$149.99</td>\n",
       "      <td>4.6 out of 5 stars</td>\n",
       "      <td>Fire HD 10 Tablet (10.1\" 1080p full HD display...</td>\n",
       "    </tr>\n",
       "    <tr>\n",
       "      <th>9575</th>\n",
       "      <td>Amazon</td>\n",
       "      <td>7\" IPS display; 16 or 32 GB of internal storag...</td>\n",
       "      <td>110,184 ratings</td>\n",
       "      <td>$49.99</td>\n",
       "      <td>4.4 out of 5 stars</td>\n",
       "      <td>Fire 7 tablet (7\" display, 16 GB) - Black</td>\n",
       "    </tr>\n",
       "  </tbody>\n",
       "</table>\n",
       "<p>9576 rows × 6 columns</p>\n",
       "</div>"
      ],
      "text/plain": [
       "        brand                                        description  \\\n",
       "0      Dragon  ,,[ Native and Latest Android OS ] The Max10 u...   \n",
       "1       Hoozo  ,,【Latest Ver. Tablets】: Android 8.1 Go OS, 1....   \n",
       "2      vankyo  ,,Faster and More responsive: Equipped with th...   \n",
       "3      Dragon  ,,[Strong and Powerful Performance]: Do what y...   \n",
       "4      Amazon  A Certified Refurbished Fire 7 Tablet is refur...   \n",
       "...       ...                                                ...   \n",
       "9571  Fusion5  ,,10.1 INCH POWERFUL OCTA-CORE TABLET PC WITH ...   \n",
       "9572  Samsung  ,,Minimal bezel. Maximum view. Watch, stream a...   \n",
       "9573   Amazon  8\" HD display, 2X the storage (32 or 64 GB of ...   \n",
       "9574   Amazon  10.1\" 1080p full HD display; 32 or 64 GB of in...   \n",
       "9575   Amazon  7\" IPS display; 16 or 32 GB of internal storag...   \n",
       "\n",
       "          num_reviews    price              rating  \\\n",
       "0         816 ratings  $149.99  4.4 out of 5 stars   \n",
       "1       2,099 ratings   $91.77  3.9 out of 5 stars   \n",
       "2       1,711 ratings   $74.99  4.4 out of 5 stars   \n",
       "3       4,595 ratings  $119.99  4.4 out of 5 stars   \n",
       "4       2,140 ratings   $59.99  4.4 out of 5 stars   \n",
       "...               ...      ...                 ...   \n",
       "9571              NaN  $159.95                 NaN   \n",
       "9572    8,882 ratings  $206.68  4.7 out of 5 stars   \n",
       "9573   30,108 ratings   $89.99  4.5 out of 5 stars   \n",
       "9574   77,593 ratings  $149.99  4.6 out of 5 stars   \n",
       "9575  110,184 ratings   $49.99  4.4 out of 5 stars   \n",
       "\n",
       "                                                  title  \n",
       "0     Dragon Touch Max10 Tablet, Android 10.0 OS, Oc...  \n",
       "1     Android Tablet 10 Inch, 5G WiFi Tablet, 16 GB ...  \n",
       "2     VANKYO MatrixPad S7 7 inch Tablet, Android 9.0...  \n",
       "3     Dragon Touch Notepad K10 Tablet, 10 inch Andro...  \n",
       "4     Certified Refurbished Fire 7 Tablet (7\" displa...  \n",
       "...                                                 ...  \n",
       "9571  Fusion5 10.1\" 2in1 Google Certified Android La...  \n",
       "9572  SAMSUNG SM-T510NZDFXAR Galaxy Tab A 10.1 64 GB...  \n",
       "9573  All-new Fire HD 8 tablet, 8\" HD display, 32 GB...  \n",
       "9574  Fire HD 10 Tablet (10.1\" 1080p full HD display...  \n",
       "9575          Fire 7 tablet (7\" display, 16 GB) - Black  \n",
       "\n",
       "[9576 rows x 6 columns]"
      ]
     },
     "execution_count": 17,
     "metadata": {},
     "output_type": "execute_result"
    }
   ],
   "source": [
    "import pandas as pd \n",
    "\n",
    "pd.read_csv(\"data.csv\")"
   ]
  },
  {
   "cell_type": "code",
   "execution_count": 18,
   "metadata": {
    "scrolled": true
   },
   "outputs": [
    {
     "data": {
      "image/png": "[encoded data removed]",
      "text/plain": [
       "<Figure size 432x288 with 1 Axes>"
      ]
     },
     "metadata": {},
     "output_type": "display_data"
    }
   ],
   "source": [
    "import pandas as pd\n",
    "import numpy as np\n",
    "from matplotlib import pyplot as plt\n",
    "plt.style.use('ggplot')\n",
    "\n",
    "df = pd.read_csv(\"data.csv\")\n",
    "summarised_results = df[\"rating\"].value_counts()\n",
    "plt.bar(summarised_results.keys(), summarised_results.values)\n",
    "plt.show()"
   ]
  },
  {
   "cell_type": "code",
   "execution_count": 19,
   "metadata": {
    "scrolled": true
   },
   "outputs": [
    {
     "data": {
      "text/plain": [
       "5.0 out of 5 stars    246\n",
       "4.0 out of 5 stars    169\n",
       "4.5 out of 5 stars    123\n",
       "3.5 out of 5 stars    118\n",
       "4.1 out of 5 stars    113\n",
       "3.8 out of 5 stars    111\n",
       "4.2 out of 5 stars    109\n",
       "3.7 out of 5 stars    107\n",
       "3.9 out of 5 stars    106\n",
       "4.4 out of 5 stars    105\n",
       "4.6 out of 5 stars     96\n",
       "4.3 out of 5 stars     96\n",
       "3.6 out of 5 stars     90\n",
       "4.7 out of 5 stars     84\n",
       "3.0 out of 5 stars     83\n",
       "3.3 out of 5 stars     68\n",
       "3.4 out of 5 stars     65\n",
       "3.2 out of 5 stars     59\n",
       "1.0 out of 5 stars     57\n",
       "3.1 out of 5 stars     57\n",
       "4.8 out of 5 stars     38\n",
       "2.0 out of 5 stars     31\n",
       "2.9 out of 5 stars     26\n",
       "2.6 out of 5 stars     23\n",
       "2.8 out of 5 stars     21\n",
       "2.5 out of 5 stars     17\n",
       "2.7 out of 5 stars     15\n",
       "4.9 out of 5 stars      8\n",
       "2.3 out of 5 stars      8\n",
       "1.9 out of 5 stars      7\n",
       "2.4 out of 5 stars      7\n",
       "2.2 out of 5 stars      5\n",
       "1.7 out of 5 stars      3\n",
       "1.6 out of 5 stars      3\n",
       "1.4 out of 5 stars      3\n",
       "2.1 out of 5 stars      3\n",
       "1.5 out of 5 stars      1\n",
       "1.8 out of 5 stars      1\n",
       "1.3 out of 5 stars      1\n",
       "Name: rating, dtype: int64"
      ]
     },
     "execution_count": 19,
     "metadata": {},
     "output_type": "execute_result"
    }
   ],
   "source": [
    "df['rating'].value_counts()"
   ]
  },
  {
   "cell_type": "code",
   "execution_count": 30,
   "metadata": {},
   "outputs": [
    {
     "ename": "TypeError",
     "evalue": "can only join an iterable",
     "output_type": "error",
     "traceback": [
      "\u001b[1;31m---------------------------------------------------------------------------\u001b[0m",
      "\u001b[1;31mTypeError\u001b[0m                                 Traceback (most recent call last)",
      "\u001b[1;32m<ipython-input-30-b9c9c60994e5>\u001b[0m in \u001b[0;36m<module>\u001b[1;34m\u001b[0m\n\u001b[0;32m      2\u001b[0m \u001b[1;33m\u001b[0m\u001b[0m\n\u001b[0;32m      3\u001b[0m \u001b[1;33m\u001b[0m\u001b[0m\n\u001b[1;32m----> 4\u001b[1;33m \u001b[0mx\u001b[0m\u001b[1;33m.\u001b[0m\u001b[0mstr\u001b[0m\u001b[1;33m.\u001b[0m\u001b[0mfindall\u001b[0m\u001b[1;33m(\u001b[0m\u001b[1;34m'(\\d+)'\u001b[0m\u001b[1;33m)\u001b[0m\u001b[1;33m.\u001b[0m\u001b[0mapply\u001b[0m\u001b[1;33m(\u001b[0m\u001b[1;34m''\u001b[0m\u001b[1;33m.\u001b[0m\u001b[0mjoin\u001b[0m\u001b[1;33m)\u001b[0m\u001b[1;33m\u001b[0m\u001b[1;33m\u001b[0m\u001b[0m\n\u001b[0m\u001b[0;32m      5\u001b[0m \u001b[1;33m\u001b[0m\u001b[0m\n",
      "\u001b[1;32m~\\miniconda3\\lib\\site-packages\\pandas\\core\\series.py\u001b[0m in \u001b[0;36mapply\u001b[1;34m(self, func, convert_dtype, args, **kwds)\u001b[0m\n\u001b[0;32m   4198\u001b[0m             \u001b[1;32melse\u001b[0m\u001b[1;33m:\u001b[0m\u001b[1;33m\u001b[0m\u001b[1;33m\u001b[0m\u001b[0m\n\u001b[0;32m   4199\u001b[0m                 \u001b[0mvalues\u001b[0m \u001b[1;33m=\u001b[0m \u001b[0mself\u001b[0m\u001b[1;33m.\u001b[0m\u001b[0mastype\u001b[0m\u001b[1;33m(\u001b[0m\u001b[0mobject\u001b[0m\u001b[1;33m)\u001b[0m\u001b[1;33m.\u001b[0m\u001b[0m_values\u001b[0m\u001b[1;33m\u001b[0m\u001b[1;33m\u001b[0m\u001b[0m\n\u001b[1;32m-> 4200\u001b[1;33m                 \u001b[0mmapped\u001b[0m \u001b[1;33m=\u001b[0m \u001b[0mlib\u001b[0m\u001b[1;33m.\u001b[0m\u001b[0mmap_infer\u001b[0m\u001b[1;33m(\u001b[0m\u001b[0mvalues\u001b[0m\u001b[1;33m,\u001b[0m \u001b[0mf\u001b[0m\u001b[1;33m,\u001b[0m \u001b[0mconvert\u001b[0m\u001b[1;33m=\u001b[0m\u001b[0mconvert_dtype\u001b[0m\u001b[1;33m)\u001b[0m\u001b[1;33m\u001b[0m\u001b[1;33m\u001b[0m\u001b[0m\n\u001b[0m\u001b[0;32m   4201\u001b[0m \u001b[1;33m\u001b[0m\u001b[0m\n\u001b[0;32m   4202\u001b[0m         \u001b[1;32mif\u001b[0m \u001b[0mlen\u001b[0m\u001b[1;33m(\u001b[0m\u001b[0mmapped\u001b[0m\u001b[1;33m)\u001b[0m \u001b[1;32mand\u001b[0m \u001b[0misinstance\u001b[0m\u001b[1;33m(\u001b[0m\u001b[0mmapped\u001b[0m\u001b[1;33m[\u001b[0m\u001b[1;36m0\u001b[0m\u001b[1;33m]\u001b[0m\u001b[1;33m,\u001b[0m \u001b[0mSeries\u001b[0m\u001b[1;33m)\u001b[0m\u001b[1;33m:\u001b[0m\u001b[1;33m\u001b[0m\u001b[1;33m\u001b[0m\u001b[0m\n",
      "\u001b[1;32mpandas\\_libs\\lib.pyx\u001b[0m in \u001b[0;36mpandas._libs.lib.map_infer\u001b[1;34m()\u001b[0m\n",
      "\u001b[1;31mTypeError\u001b[0m: can only join an iterable"
     ]
    }
   ],
   "source": [
    "x = df['rating']\n",
    "\n",
    "\n",
    "\n",
    "       "
   ]
  }
 ],
 "metadata": {
  "kernelspec": {
   "display_name": "Python 3",
   "language": "python",
   "name": "python3"
  },
  "language_info": {
   "codemirror_mode": {
    "name": "ipython",
    "version": 3
   },
   "file_extension": ".py",
   "mimetype": "text/x-python",
   "name": "python",
   "nbconvert_exporter": "python",
   "pygments_lexer": "ipython3",
   "version": "3.8.3"
  }
 },
 "nbformat": 4,
 "nbformat_minor": 4
}
